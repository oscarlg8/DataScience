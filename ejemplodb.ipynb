{
 "cells": [
  {
   "cell_type": "code",
   "execution_count": 1,
   "metadata": {},
   "outputs": [],
   "source": [
    "# Importar el módulo sqlite3\n",
    "import sqlite3\n",
    "\n",
    "# Crear un objeto de conexión a la base de datos\n",
    "con = sqlite3.connect(\"mi_base_de_datos.db\")\n",
    "\n",
    "# Crear un objeto cursor para ejecutar las sentencias SQL\n",
    "cur = con.cursor()\n",
    "\n",
    "# Crear una lista de python con los datos que queremos insertar\n",
    "datos = [(\"Ana\", 25), (\"Luis\", 30), (\"Pedro\", 35)]\n",
    "\n",
    "# Insertar los datos en la tabla usuarios usando el método executemany\n",
    "cur.executemany(\"INSERT INTO usuarios (nombre, edad) VALUES (?, ?)\", datos)\n",
    "\n",
    "# Guardar los cambios en la base de datos\n",
    "con.commit()\n",
    "\n",
    "# Cerrar la conexión\n",
    "con.close()\n"
   ]
  },
  {
   "cell_type": "code",
   "execution_count": null,
   "metadata": {},
   "outputs": [],
   "source": [
    "cur.execute(\"SELECT nombre, edad FROM usuarios\")\n",
    "\n",
    "# Obtener una lista de tuplas con los resultados usando el método fetchall\n",
    "datos = cur.fetchall()\n",
    "\n",
    "# Imprimir los datos obtenidos\n",
    "for nombre, edad in datos:\n",
    "    print(nombre, edad)\n",
    "\n",
    "# Cerrar la conexión\n",
    "con.close()"
   ]
  },
  {
   "cell_type": "code",
   "execution_count": 3,
   "metadata": {},
   "outputs": [
    {
     "name": "stdout",
     "output_type": "stream",
     "text": [
      "Ana 25\n",
      "Luis 30\n",
      "Pedro 35\n",
      "Ana 25\n",
      "Luis 30\n",
      "Pedro 35\n",
      "Ana 25\n",
      "Luis 30\n",
      "Pedro 35\n",
      "Ana 25\n",
      "Luis 30\n",
      "Pedro 35\n"
     ]
    }
   ],
   "source": [
    "# Crear un objeto de conexión a la base de datos\n",
    "con = sqlite3.connect(\"mi_base_de_datos.db\")\n",
    "\n",
    "# Crear un objeto cursor para ejecutar las sentencias SQL\n",
    "cur = con.cursor()\n",
    "\n",
    "# Consultar los datos de la tabla usuarios usando el método execute\n",
    "cur.execute(\"SELECT nombre, edad FROM usuarios\")\n",
    "\n",
    "# Obtener una lista de tuplas con los resultados usando el método fetchall\n",
    "datos = cur.fetchall()\n",
    "\n",
    "# Imprimir los datos obtenidos\n",
    "for nombre, edad in datos:\n",
    "    print(nombre, edad)\n",
    "\n",
    "# Cerrar la conexión\n",
    "con.close()"
   ]
  },
  {
   "cell_type": "code",
   "execution_count": 7,
   "metadata": {},
   "outputs": [
    {
     "name": "stdout",
     "output_type": "stream",
     "text": [
      "   nombre  edad\n",
      "0     Ana    25\n",
      "1    Luis    30\n",
      "2   Pedro    35\n",
      "3     Ana    25\n",
      "4    Luis    30\n",
      "5   Pedro    35\n",
      "6     Ana    25\n",
      "7    Luis    30\n",
      "8   Pedro    35\n",
      "9     Ana    25\n",
      "10   Luis    30\n",
      "11  Pedro    35\n"
     ]
    }
   ],
   "source": [
    "import pandas as pd\n",
    "\n",
    "# Crear un objeto de conexión a la base de datos\n",
    "con = sqlite3.connect(\"mi_base_de_datos.db\")\n",
    "\n",
    "# Leer los datos de la tabla usuarios y convertirlos en un dataframe\n",
    "df = pd.read_sql(\"SELECT nombre, edad FROM usuarios\", con)\n",
    "\n",
    "# Cerrar la conexión\n",
    "con.close()\n",
    "\n",
    "# Imprimir el dataframe\n",
    "print(df)"
   ]
  },
  {
   "cell_type": "code",
   "execution_count": 8,
   "metadata": {},
   "outputs": [],
   "source": [
    "# Importar el módulo sqlite3\n",
    "import sqlite3\n",
    "\n",
    "# Crear un objeto de conexión a la base de datos\n",
    "con = sqlite3.connect(\"mi_base_de_datos.db\")\n",
    "\n",
    "# Crear un objeto cursor para ejecutar las sentencias SQL\n",
    "cur = con.cursor()\n",
    "\n",
    "# Ejecutar la instrucción SQL para crear la tabla productos\n",
    "cur.execute(\"CREATE TABLE productos (id INTEGER PRIMARY KEY, nombre TEXT, precio REAL)\")\n",
    "\n",
    "# Confirmar los cambios\n",
    "con.commit()\n",
    "\n",
    "# Cerrar la conexión\n",
    "con.close()"
   ]
  },
  {
   "cell_type": "code",
   "execution_count": 9,
   "metadata": {},
   "outputs": [],
   "source": [
    "# Crear un objeto de conexión a la base de datos\n",
    "con = sqlite3.connect(\"mi_base_de_datos.db\")"
   ]
  },
  {
   "cell_type": "code",
   "execution_count": 10,
   "metadata": {},
   "outputs": [],
   "source": [
    "# Crear un objeto cursor para ejecutar las sentencias SQL\n",
    "cur = con.cursor()"
   ]
  },
  {
   "cell_type": "code",
   "execution_count": 11,
   "metadata": {},
   "outputs": [],
   "source": [
    "# Crear una lista de python con los datos que queremos insertar\n",
    "datos = [(\"Leche\", 1.5), (\"Pan\", 0.5), (\"Queso\", 2.5)]"
   ]
  },
  {
   "cell_type": "code",
   "execution_count": 12,
   "metadata": {},
   "outputs": [
    {
     "data": {
      "text/plain": [
       "<sqlite3.Cursor at 0x164cc3e0b40>"
      ]
     },
     "execution_count": 12,
     "metadata": {},
     "output_type": "execute_result"
    }
   ],
   "source": [
    "# Insertar los datos en la tabla productos usando el método executemany\n",
    "cur.executemany(\"INSERT INTO productos (nombre, precio) VALUES (?, ?)\", datos)"
   ]
  },
  {
   "cell_type": "code",
   "execution_count": 13,
   "metadata": {},
   "outputs": [],
   "source": [
    "# Guardar los cambios en la base de datos   \n",
    "con.commit()"
   ]
  },
  {
   "cell_type": "code",
   "execution_count": 14,
   "metadata": {},
   "outputs": [],
   "source": [
    "# Cerrar la conexión\n",
    "con.close()"
   ]
  },
  {
   "cell_type": "code",
   "execution_count": 16,
   "metadata": {},
   "outputs": [],
   "source": [
    "# crear un df de pandas con los datos de los productos\n",
    "df_productos = pd.DataFrame(datos, columns=[\"nombre\", \"precio\"])"
   ]
  },
  {
   "cell_type": "code",
   "execution_count": 17,
   "metadata": {},
   "outputs": [
    {
     "data": {
      "text/html": [
       "<div>\n",
       "<style scoped>\n",
       "    .dataframe tbody tr th:only-of-type {\n",
       "        vertical-align: middle;\n",
       "    }\n",
       "\n",
       "    .dataframe tbody tr th {\n",
       "        vertical-align: top;\n",
       "    }\n",
       "\n",
       "    .dataframe thead th {\n",
       "        text-align: right;\n",
       "    }\n",
       "</style>\n",
       "<table border=\"1\" class=\"dataframe\">\n",
       "  <thead>\n",
       "    <tr style=\"text-align: right;\">\n",
       "      <th></th>\n",
       "      <th>nombre</th>\n",
       "      <th>precio</th>\n",
       "    </tr>\n",
       "  </thead>\n",
       "  <tbody>\n",
       "    <tr>\n",
       "      <th>0</th>\n",
       "      <td>Leche</td>\n",
       "      <td>1.5</td>\n",
       "    </tr>\n",
       "    <tr>\n",
       "      <th>1</th>\n",
       "      <td>Pan</td>\n",
       "      <td>0.5</td>\n",
       "    </tr>\n",
       "    <tr>\n",
       "      <th>2</th>\n",
       "      <td>Queso</td>\n",
       "      <td>2.5</td>\n",
       "    </tr>\n",
       "  </tbody>\n",
       "</table>\n",
       "</div>"
      ],
      "text/plain": [
       "  nombre  precio\n",
       "0  Leche     1.5\n",
       "1    Pan     0.5\n",
       "2  Queso     2.5"
      ]
     },
     "execution_count": 17,
     "metadata": {},
     "output_type": "execute_result"
    }
   ],
   "source": [
    "df_productos"
   ]
  },
  {
   "cell_type": "code",
   "execution_count": null,
   "metadata": {},
   "outputs": [],
   "source": []
  }
 ],
 "metadata": {
  "kernelspec": {
   "display_name": "Python 3",
   "language": "python",
   "name": "python3"
  },
  "language_info": {
   "codemirror_mode": {
    "name": "ipython",
    "version": 3
   },
   "file_extension": ".py",
   "mimetype": "text/x-python",
   "name": "python",
   "nbconvert_exporter": "python",
   "pygments_lexer": "ipython3",
   "version": "3.10.10"
  },
  "orig_nbformat": 4
 },
 "nbformat": 4,
 "nbformat_minor": 2
}
